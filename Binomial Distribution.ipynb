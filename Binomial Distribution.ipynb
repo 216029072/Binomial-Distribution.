{
 "cells": [
  {
   "cell_type": "markdown",
   "id": "2fe39c2a",
   "metadata": {},
   "source": [
    "The binomial distribution is used when there are exactly two mutually exclusive outcomes of a trial. These outcomes are appropriately labeled \"success\" and \"failure\". The binomial distribution is used to obtain the probability of observing x successes in N trials, with the probability of success on a single trial denoted by p. The binomial distribution assumes that p is fixed for all trials"
   ]
  },
  {
   "cell_type": "markdown",
   "id": "e3dc2140",
   "metadata": {},
   "source": [
    "Example 1: Two players are playing basketball, player A and player B. Player A takes an average of 11 shots per game, and has an average success rate of 72%. Player B takes an average of 15 shots per game, but has an average success rate of 48%.\n",
    "\n",
    "Question 1: What's the probability that Player A makes 6 shots in an average game?\n",
    "\n",
    "Question 2: What's the probability that Player B makes 6 shots in an average game?"
   ]
  },
  {
   "cell_type": "markdown",
   "id": "3e25cb62",
   "metadata": {},
   "source": [
    "1.) The process consists of a sequence of n trials.\n",
    "2.) Only two exclusive outcomes are possible for each trial (A success and a failure)\n",
    "3.) If the probability of a success is 'p' then the probability of failure is q=1-p\n",
    "4.) The trials are independent."
   ]
  },
  {
   "cell_type": "code",
   "execution_count": 2,
   "id": "8baea49a",
   "metadata": {},
   "outputs": [
    {
     "name": "stdout",
     "output_type": "stream",
     "text": [
      " The probability of player A making 6 shots in an average game is 11.1% \n",
      " \n",
      "\n",
      " The probability of player B making 6 shots in an average game is 17.0% \n"
     ]
    },
    {
     "name": "stderr",
     "output_type": "stream",
     "text": [
      "C:\\Python\\python new\\lib\\site-packages\\ipykernel_launcher.py:15: DeprecationWarning: `comb` is deprecated!\n",
      "Importing `comb` from scipy.misc is deprecated in scipy 1.0.0. Use `scipy.special.comb` instead.\n",
      "  from ipykernel import kernelapp as app\n",
      "C:\\Python\\python new\\lib\\site-packages\\ipykernel_launcher.py:27: DeprecationWarning: `comb` is deprecated!\n",
      "Importing `comb` from scipy.misc is deprecated in scipy 1.0.0. Use `scipy.special.comb` instead.\n"
     ]
    }
   ],
   "source": [
    "# Set up player A\n",
    "\n",
    "# Probability of success for A\n",
    "p_A = .72\n",
    "# Number of shots for A\n",
    "n_A = 11\n",
    "\n",
    "# Make 6 shots\n",
    "k = 6\n",
    "\n",
    "# Now import scipy for combination\n",
    "import scipy.misc as sc\n",
    "\n",
    "# Set up C(n,k)\n",
    "comb_A = sc.comb(n_A,k)\n",
    "\n",
    "# Now put it together to get the probability!\n",
    "answer_A = comb_A * (p_A**k) * ((1-p_A)**(n_A-k))\n",
    "\n",
    "# Put the answer in percentage form!\n",
    "answer_A = 100*answer_A\n",
    "\n",
    "\n",
    "# Quickly repeat all steps for Player B\n",
    "p_B = .48\n",
    "n_B = 15\n",
    "comb_B = sc.comb(n_B,k)\n",
    "answer_B = 100 * comb_B * (p_B**k) * ((1-p_B)**(n_B-k))\n",
    "\n",
    "\n",
    "#Print Answers\n",
    "print ' The probability of player A making 6 shots in an average game is %1.1f%% ' %answer_A\n",
    "print ' \\n'\n",
    "print ' The probability of player B making 6 shots in an average game is %1.1f%% ' %answer_B"
   ]
  },
  {
   "cell_type": "code",
   "execution_count": null,
   "id": "a940647b",
   "metadata": {},
   "outputs": [],
   "source": []
  }
 ],
 "metadata": {
  "kernelspec": {
   "display_name": "Python 2",
   "language": "python",
   "name": "python2"
  },
  "language_info": {
   "codemirror_mode": {
    "name": "ipython",
    "version": 2
   },
   "file_extension": ".py",
   "mimetype": "text/x-python",
   "name": "python",
   "nbconvert_exporter": "python",
   "pygments_lexer": "ipython2",
   "version": "2.7.18"
  }
 },
 "nbformat": 4,
 "nbformat_minor": 5
}
